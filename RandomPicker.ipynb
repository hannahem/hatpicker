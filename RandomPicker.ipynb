{
 "cells": [
  {
   "cell_type": "code",
   "execution_count": 1,
   "metadata": {
    "collapsed": true
   },
   "outputs": [],
   "source": [
    "import requests\n",
    "from bs4 import BeautifulSoup\n",
    "import re\n",
    "import collections\n",
    "import json\n",
    "import unicodecsv\n",
    "import random\n",
    "import praw\n",
    "import pprint\n",
    "from urlparse import urljoin"
   ]
  },
  {
   "cell_type": "code",
   "execution_count": 2,
   "metadata": {
    "collapsed": true
   },
   "outputs": [],
   "source": [
    "###create a function to connect to reddit -- REMOVED\n",
    "def redditConnect():\n",
    "    user_agent = \"Hannah's test 0.3\"\n",
    "    r = praw.Reddit(user_agent=user_agent)\n",
    "\n",
    "redditConnect()"
   ]
  },
  {
   "cell_type": "code",
   "execution_count": 3,
   "metadata": {
    "collapsed": true
   },
   "outputs": [],
   "source": [
    "###create a function to randomly select from a set of articles\n",
    "def itemselect(dictx):\n",
    "    keyx = random.choice(dictx.keys())\n",
    "    print keyx\n",
    "    print str(dictx[keyx])"
   ]
  },
  {
   "cell_type": "code",
   "execution_count": 4,
   "metadata": {
    "collapsed": false,
    "scrolled": true
   },
   "outputs": [],
   "source": [
    "###create a function to connect to reddit get the top articles from a particlar subreddit and store their title and URL\n",
    "def reddit(subred):\n",
    "    #redditConnect()\n",
    "    user_agent = \"Hannah's test 0.3\"\n",
    "    r = praw.Reddit(user_agent=user_agent)\n",
    "    subred_submissions=r.get_subreddit(subred).get_top(limit=15)\n",
    "    subred_list = {}\n",
    "    for thing in subred_submissions:\n",
    "        subred_name = thing.title\n",
    "        subred_list[subred_name] = thing.permalink\n",
    "    itemselect(subred_list)\n",
    "\n"
   ]
  },
  {
   "cell_type": "code",
   "execution_count": 5,
   "metadata": {
    "collapsed": false
   },
   "outputs": [],
   "source": [
    "###create a function to pull the featured article of the day from Wikipedia and print it out along with relevant links\n",
    "def wikitfa():\n",
    "    wiki = requests.get('https://en.wikipedia.org/wiki/Main_Page')\n",
    "    wiki_soup = BeautifulSoup(wiki.text)\n",
    "    wiki_tfa = wiki_soup.find(\"div\", id=\"mp-tfa\").text\n",
    "    tfa_articles = {}\n",
    "    print \"Today's Featured Article from Wikipedia\"\n",
    "    print wiki_tfa\n",
    "    print (\"Read more:\")\n",
    "    for a in wiki_soup.select('#mp-tfa a'):\n",
    "        base = \"https://en.wikipedia.org/wiki/\"\n",
    "        tfa_article = a.text\n",
    "        tfa_link = a.get('href')\n",
    "        tfa_articles[tfa_article] = urljoin(base,tfa_link)\n",
    "        print tfa_article\n",
    "        print urljoin(base,tfa_link)\n"
   ]
  },
  {
   "cell_type": "code",
   "execution_count": 6,
   "metadata": {
    "collapsed": false
   },
   "outputs": [],
   "source": [
    "def makesoup(url):\n",
    "    page_content = requests.get(url)\n",
    "    page_soup = BeautifulSoup(page_content.text)\n",
    "    print page_soup\n",
    "                    \n",
    "###create a function to pull today's \"did you know\" items from Wikipedia and print one at random\n",
    "def wikidyk():\n",
    "    wiki = requests.get('https://en.wikipedia.org/wiki/Main_Page')\n",
    "    wiki_soup = BeautifulSoup(wiki.text)\n",
    "    ##makesoup('https://en.wikipedia.org/wiki/Main_Page')\n",
    "    wiki_dyk = wiki_soup.select('#mp-dyk > ul > li')\n",
    "    dyk_list = {}\n",
    "    print \"Did you know\"\n",
    "    for li in wiki_dyk:\n",
    "        base = \"https://en.wikipedia.org/wiki/\"\n",
    "        dyk_text = li.text\n",
    "        dyk_link = li.b.a.text\n",
    "        dyk_url = li.b.a.get('href')\n",
    "        dyk_list[dyk_text] = urljoin(base,dyk_url)\n",
    "    itemselect(dyk_list)\n",
    "\n"
   ]
  },
  {
   "cell_type": "code",
   "execution_count": 7,
   "metadata": {
    "collapsed": false
   },
   "outputs": [],
   "source": [
    "###create a function to pull the news items from Wikipedia and print one at random\n",
    "def wikiitn():\n",
    "    wiki = requests.get('https://en.wikipedia.org/wiki/Main_Page')\n",
    "    wiki_soup = BeautifulSoup(wiki.text)\n",
    "    wiki_itn = wiki_soup.select('#mp-itn > ul > li')\n",
    "    itn_list = {}\n",
    "    print \"In the news:\"\n",
    "    for li in wiki_itn:\n",
    "        base = \"https://en.wikipedia.org/wiki/\"\n",
    "        itn_text = li.text\n",
    "        try:\n",
    "            itn_link = li.b.a.text\n",
    "        except:\n",
    "            itn_link = li.b.text\n",
    "        try:\n",
    "            itn_url = li.b.a.get('href')\n",
    "        except: \n",
    "            itn_url = li.a.b.get('href')\n",
    "        itn_list[itn_text] = urljoin(base, itn_url)\n",
    "    itemselect(itn_list)"
   ]
  },
  {
   "cell_type": "code",
   "execution_count": 8,
   "metadata": {
    "collapsed": false
   },
   "outputs": [],
   "source": [
    "###create a function to pull the \"on this day\" items from Wikipedia and print one at random\n",
    "def wikiotd():\n",
    "    wiki = requests.get('https://en.wikipedia.org/wiki/Main_Page')\n",
    "    wiki_soup = BeautifulSoup(wiki.text)\n",
    "    wiki_otd = wiki_soup.select('#mp-otd > ul > li')\n",
    "    otd_list = {}\n",
    "    print \"On this day:\"\n",
    "    for li in wiki_otd:\n",
    "        base = \"https://en.wikipedia.org/wiki/\"\n",
    "        otd_text = li.text\n",
    "        try:\n",
    "            otd_link = li.b.a.text\n",
    "        except:\n",
    "            otd_link = li.b.text\n",
    "        try:\n",
    "            otd_url = li.b.a.get('href')\n",
    "        except: \n",
    "            otd_url = li.a.b.get('href')\n",
    "        otd_list[otd_text] = urljoin(base, otd_url)\n",
    "    itemselect(otd_list)"
   ]
  },
  {
   "cell_type": "code",
   "execution_count": 9,
   "metadata": {
    "collapsed": false
   },
   "outputs": [],
   "source": [
    "###create a function to get a random trending paste from pastebin\n",
    "def pastebin():\n",
    "    pastebin = requests.get('http://pastebin.com/trends')\n",
    "    pastebin_soup = BeautifulSoup(pastebin.text)\n",
    "    paste_tr = pastebin_soup.table.find_all(\"tr\")\n",
    "    paste_list = {}\n",
    "    for tr in paste_tr[1:len(paste_tr)]:\n",
    "        base = \"http://pastebin.com/\"\n",
    "        paste_name = tr.td.a.text\n",
    "        paste_link = tr.td.a.get('href')\n",
    "        paste_list[paste_name] = urljoin(base, paste_link)\n",
    "    itemselect(paste_list)"
   ]
  },
  {
   "cell_type": "code",
   "execution_count": 10,
   "metadata": {
    "collapsed": false
   },
   "outputs": [],
   "source": [
    "###create a function to randomly select an article source and call the appropriate function to get an article\n",
    "def randompull():\n",
    "    options = {\"Today's Featured Article\": wikitfa, \"Did You Know\": wikidyk, \"Trending Paste\": pastebin, \"Random Subreddit\": reddit}\n",
    "    subreddits = [\"AskReddit\", \"creepy\", \"NoSleep\", \"UnresolvedMysteries\", \"askscience\", \"WritingPrompts\", \"FanTheories\", \"100yearsago\", \"netflixbestof\", ]\n",
    "    source = random.choice(options.keys())\n",
    "    if source == \"Random Subreddit\":\n",
    "        sub_source = random.choice(subreddits)\n",
    "        reddit(sub_source)\n",
    "    else:\n",
    "        options[source]()\n"
   ]
  },
  {
   "cell_type": "code",
   "execution_count": 11,
   "metadata": {
    "collapsed": false
   },
   "outputs": [],
   "source": [
    "###create a function to let the user choose the article source -- REMOVED\n",
    "###def wikiChoose():\n",
    "    ##wikiSubsource = raw_input(\"Would you like to read Today's Featured Article, a 'Did You Know', or an article about a current event in the news or something that occurred on this day in history?\")\n",
    "    #return wikiSubsource\n",
    "\n",
    "###def redditChoose():\n",
    "    #userSubreddit = raw_input(\"Which Subreddit would you like to read from? Choose from AskReddit, creepy, NoSleep, UnresolvedMysteries, askscience, WritingPrompts, FanTheories, 100yearsago, or tell me another Subreddit you like.\")\n",
    "        \n"
   ]
  },
  {
   "cell_type": "code",
   "execution_count": 15,
   "metadata": {
    "collapsed": false
   },
   "outputs": [],
   "source": [
    "def again():\n",
    "    again = raw_input(\"Would you like another?\")\n",
    "    if again.lower() == \"yes\" or again.lower() == \"y\":\n",
    "        ask()\n",
    "    else:\n",
    "        print (\"Ok, goodbye!\")\n",
    "        \n",
    "def userPull():\n",
    "    userSource = raw_input(\"Ok, which source would you like to read from - Wikipedia, Reddit, or Pastebin?\").lower()\n",
    "    if userSource == \"pastebin\":\n",
    "        pastebin()\n",
    "    elif userSource == \"wikipedia\" or userSource == \"wiki\":\n",
    "        while True:\n",
    "            wikiSubsource = raw_input(\"Would you like to read Today's Featured Article, a 'Did You Know', or an article about a current event in the news or something that occurred on this day in history?\").lower()\n",
    "            if \"featured\" in wikiSubsource:\n",
    "                wikitfa()\n",
    "                break\n",
    "            elif \"did you know\" in wikiSubsource or \"dyk\" in wikiSubsource:\n",
    "                wikidyk()\n",
    "                break\n",
    "            elif \"news\" in wikiSubsource or \"current\" in wikiSubsource:\n",
    "                wikiitn()\n",
    "                break\n",
    "            elif \"history\" in wikiSubsource or \"historical\" in wikiSubsource or \"historic\" in wikiSubsource or \"this day\" in wikiSubsource or \"otd\" in wikiSubsource:\n",
    "                wikiotd()\n",
    "                break\n",
    "            else:\n",
    "                print (\"I'm sorry, I didn't quite understand. Can you tell me again?\")\n",
    "                True\n",
    "    elif userSource == \"reddit\":\n",
    "        userSubreddit = raw_input(\"Which Subreddit would you like to read from? Choose from AskReddit, creepy, NoSleep, UnresolvedMysteries, askscience, WritingPrompts, FanTheories, 100yearsago, or tell me another Subreddit you like.\")\n",
    "        reddit(userSubreddit)\n",
    "    again()\n",
    "    print"
   ]
  },
  {
   "cell_type": "code",
   "execution_count": 16,
   "metadata": {
    "collapsed": false
   },
   "outputs": [],
   "source": [
    "def ask():\n",
    "    choice = raw_input(\"Ok, \" + userName + \", would you like to pick something to read or let me pick for you? Just say 'you pick' or 'I'll pick.'\")\n",
    "    print\n",
    "    if choice.lower() == \"you pick\":\n",
    "        print\n",
    "        randompull()\n",
    "    else:\n",
    "        print\n",
    "        userPull()\n",
    "    print \n",
    "    print    "
   ]
  },
  {
   "cell_type": "code",
   "execution_count": 17,
   "metadata": {
    "collapsed": false
   },
   "outputs": [
    {
     "name": "stdout",
     "output_type": "stream",
     "text": [
      "\n",
      "\n",
      "\n",
      "\n",
      "Hello, what's your name?h\n",
      "Ok, h, would you like to pick something to read or let me pick for you? Just say 'you pick' or 'I'll pick.'i'll pick\n",
      "\n",
      "\n",
      "Ok, which source would you like to read from - Wikipedia, Reddit, or Pastebin?reddit\n",
      "Which Subreddit would you like to read from? Choose from AskReddit, creepy, NoSleep, UnresolvedMysteries, askscience, WritingPrompts, FanTheories, 100yearsago, or tell me another Subreddit you like.askreddit\n",
      "What movie was a great idea in theory but was executed horribly?\n",
      "https://www.reddit.com/r/AskReddit/comments/45wd1z/what_movie_was_a_great_idea_in_theory_but_was/\n",
      "Would you like another?no\n",
      "Ok, goodbye!\n",
      "\n",
      "\n"
     ]
    }
   ],
   "source": [
    "userName = raw_input(\"Hello, what's your name?\")\n",
    "ask()\n"
   ]
  }
 ],
 "metadata": {
  "kernelspec": {
   "display_name": "Python 2",
   "language": "python",
   "name": "python2"
  },
  "language_info": {
   "codemirror_mode": {
    "name": "ipython",
    "version": 2
   },
   "file_extension": ".py",
   "mimetype": "text/x-python",
   "name": "python",
   "nbconvert_exporter": "python",
   "pygments_lexer": "ipython2",
   "version": "2.7.11"
  }
 },
 "nbformat": 4,
 "nbformat_minor": 0
}
